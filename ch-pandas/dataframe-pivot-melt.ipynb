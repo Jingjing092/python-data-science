{
 "cells": [
  {
   "cell_type": "markdown",
   "metadata": {},
   "source": [
    "# 数据透视和数据重塑\n",
    "## 数据透视"
   ]
  },
  {
   "cell_type": "markdown",
   "metadata": {},
   "source": [
    "`pivot_table` 是用于数据透视的重要函数之一。它根据一个或多个列的值对数据进行重新排列和汇总，以便更好地理解数据的结构和关系，等同于 Excel 数据透视表的功能，能够处理更大量数据且功能更强大（可自定义函数进行聚合）。\n",
    "\n",
    "![数据透视](../drawio/ch-pandas/pivot.drawio)\n",
    ":width:`800px`\n",
    ":label:`pivot-img`"
   ]
  },
  {
   "cell_type": "code",
   "execution_count": null,
   "metadata": {},
   "outputs": [
    {
     "ename": "",
     "evalue": "",
     "output_type": "error",
     "traceback": [
      "\u001b[1;31m运行具有“git”的单元格需要ipykernel包。\n",
      "\u001b[1;31mRun the following command to install 'ipykernel' into the Python environment. \n",
      "\u001b[1;31mCommand: 'conda install -n git ipykernel --update-deps --force-reinstall'"
     ]
    }
   ],
   "source": [
    "import pandas as pd\n",
    "import numpy as np\n",
    "sales_df = pd.read_excel(\"/Users/xu/Downloads/sales-funnel.xlsx\")\n",
    "sales_df"
   ]
  },
  {
   "cell_type": "markdown",
   "metadata": {},
   "source": [
    "pivot_table函数的完整形式为`pd.pivot_table(data, values=None, index=None, columns=None, aggfunc='mean', fill_value=None, margins=False, dropna=True, margins_name='All', observed=False)`。参数很多，只有`data`是唯一必需的参数，其他均有默认值，常需要设置的参数有 `values`,`index`,`columns`,`aggfunc`等。"
   ]
  },
  {
   "cell_type": "markdown",
   "metadata": {},
   "source": [
    "### index和columns参数\n",
    "\n",
    "index: 用于分组数据，生成透视表的行索引，可以为多个属性。\n",
    "\n",
    "columns: 用于分组数据，生成透视表的列索引。\n",
    "\n",
    "例1: 按照 Name 分组，即添加 Name 的行索引。"
   ]
  },
  {
   "cell_type": "code",
   "execution_count": null,
   "metadata": {},
   "outputs": [],
   "source": [
    "pd.pivot_table(sales_df,index=['Name'])"
   ]
  },
  {
   "cell_type": "markdown",
   "metadata": {},
   "source": [
    "例2: 按 Manager 和 Rep 分组，类似于 `groupby Manager, Rep`。"
   ]
  },
  {
   "cell_type": "code",
   "execution_count": null,
   "metadata": {},
   "outputs": [],
   "source": [
    "pd.pivot_table(sales_df, index=['Manager','Rep'])"
   ]
  },
  {
   "cell_type": "markdown",
   "metadata": {},
   "source": [
    "例3: 添加透视表的列索引 Product。"
   ]
  },
  {
   "cell_type": "code",
   "execution_count": null,
   "metadata": {},
   "outputs": [],
   "source": [
    "pd.pivot_table(sales_df, index=['Manager','Rep'], columns=[\"Product\"])"
   ]
  },
  {
   "cell_type": "markdown",
   "metadata": {},
   "source": [
    "### values参数\n",
    "values参数指明要聚合的列或列的列表，通常是你想要在透视表中分析的数值数据。\n",
    "\n",
    "例：只显示 Price 列对应的平均值。"
   ]
  },
  {
   "cell_type": "code",
   "execution_count": null,
   "metadata": {},
   "outputs": [],
   "source": [
    "pd.pivot_table(sales_df,index=['Manager','Rep'],values='Price')"
   ]
  },
  {
   "cell_type": "markdown",
   "metadata": {},
   "source": [
    "### aggfunc参数\n",
    "用于汇总数据的聚合函数，可以是字符串（如 'sum'、'mean'、'count' 等）或自定义聚合函数。\n",
    "\n",
    "例：对 Price 显示 mean 和 len(计数) 两列结果。"
   ]
  },
  {
   "cell_type": "code",
   "execution_count": null,
   "metadata": {},
   "outputs": [],
   "source": [
    "pd.pivot_table(sales_df,index=[\"Manager\",\"Rep\"],values=[\"Price\"],aggfunc=[np.mean,len])"
   ]
  },
  {
   "cell_type": "markdown",
   "metadata": {},
   "source": [
    "### fill_value 和 margins参数\n",
    "fill_value 用于填充缺失值的值; margins 为布尔值，如果为 True, 则在透视表中包含行和列的总计。"
   ]
  },
  {
   "cell_type": "code",
   "execution_count": null,
   "metadata": {},
   "outputs": [],
   "source": [
    "pd.pivot_table(sales_df,index=[\"Manager\",\"Rep\",\"Product\"],\n",
    "               values=[\"Price\",\"Quantity\"],\n",
    "               aggfunc=[np.sum,np.mean],fill_value=0,margins=True)"
   ]
  },
  {
   "cell_type": "markdown",
   "metadata": {},
   "source": [
    "### 维度交叉\n",
    "\n",
    "将以上参数结合起来，对 Quantity 和 Price 应用不同的聚合函数。"
   ]
  },
  {
   "cell_type": "markdown",
   "metadata": {},
   "source": [
    "table = pd.pivot_table(sales_df,index=[\"Manager\",\"Status\"],columns=[\"Product\"],values=[\"Quantity\",\"Price\"],\n",
    "               aggfunc={\"Quantity\":len,\"Price\":[np.mean]},fill_value=0)\n",
    "table"
   ]
  },
  {
   "cell_type": "markdown",
   "metadata": {},
   "source": [
    "### 数据筛选\n",
    "pandas中，建立数据透视表（pivot table）后，也可以进一步筛选数据以满足特定的条件，类似于 DataFrame 的数据切片方法中的条件索引。这里主要介绍 `.query`方法，允许通过传递查询字符串来筛选数据。\n",
    "\n",
    "例1: 筛选出 Manager 为 Debra Henley 的结果。"
   ]
  },
  {
   "cell_type": "code",
   "execution_count": null,
   "metadata": {},
   "outputs": [],
   "source": [
    "table.query('Manager == [\"Debra Henley\"]')"
   ]
  },
  {
   "cell_type": "markdown",
   "metadata": {},
   "source": [
    "例2: 筛选出 Status 为 pending 或 won 的结果。"
   ]
  },
  {
   "cell_type": "code",
   "execution_count": null,
   "metadata": {},
   "outputs": [],
   "source": [
    "table.query('Status == [\"pending\",\"won\"]')"
   ]
  },
  {
   "cell_type": "markdown",
   "metadata": {},
   "source": [
    "## 数据重塑\n",
    "pandas.melt()是用于将宽格式（wide format）的数据表格转换为长格式（long format）。这个函数通常用于数据重塑（data reshaping）操作，以便更容易进行数据分析和可视化。\n",
    "\n",
    "通过这种方式，可以将宽格式数据表格中的多列数据整合到一个列中，可以理解为透视表pivot_table()的反操作。\n",
    "\n",
    "![数据重塑](../drawio/ch-pandas/melt.drawio)\n",
    ":width:`800px`\n",
    ":label:`melt-img`"
   ]
  },
  {
   "cell_type": "code",
   "execution_count": null,
   "metadata": {},
   "outputs": [],
   "source": [
    "import pandas as pd\n",
    "#create student_df\n",
    "d1 = {'Student_id':pd.Series([1,2,3]), 'Name':pd.Series(['Amy','Bob','John']), \n",
    "'Math':pd.Series([90,78,88]),'English':pd.Series([85,92,79]),\n",
    "'History':pd.Series([88,76,90])}\n",
    "student_df = pd.DataFrame(d1)\n",
    "print(\"student_df:\")\n",
    "student_df"
   ]
  },
  {
   "cell_type": "code",
   "execution_count": null,
   "metadata": {},
   "outputs": [],
   "source": [
    "melted_df = pd.melt(student_df, id_vars=['Student_id', 'Name'], value_vars=['Math', 'English', 'History'], \n",
    "var_name='Subject', value_name='Score')\n",
    "print(\"melted_df\")\n",
    "melted_df"
   ]
  },
  {
   "cell_type": "markdown",
   "metadata": {},
   "source": [
    "数据重塑时，通常需要使用`value_vars`来指定需要“融化”的列，使它们被整合为一列。比如本例中，将`Math`,`English`,`History`作为`Subject`被整合为一列。\n",
    "\n",
    "我们回到 `melt` 函数的参数。完整的参数形式为:`pandas.melt(frame, id_vars=None, value_vars=None, var_name=None, value_name='value', col_level=None)`。\n",
    "\n",
    "`frame`指的是要进行重塑操作的 DataFrame 。\n",
    "\n",
    "`id_vars`表示需要保留的列，它们将成为长格式中的标识变量（identifier variable），不被\"融化\"。\n",
    "\n",
    "`value_vars`是需要\"融化\"的列，它们将被整合成一列，并用新的列名表示。\n",
    "\n",
    "`var_name`用于存储\"融化\"后的列名的新列的名称。\n",
    "\n",
    "`value_name`用于存储\"融化\"后的值的新列的名称。\n",
    "\n",
    "如果输入数据是多级索引（MultiIndex），则可以用`col_level`指定在哪个级别上应用\"融化\"操作。\n"
   ]
  }
 ],
 "metadata": {
  "kernelspec": {
   "display_name": "git",
   "language": "python",
   "name": "python3"
  },
  "language_info": {
   "name": "python",
   "version": "3.10.13"
  },
  "orig_nbformat": 4
 },
 "nbformat": 4,
 "nbformat_minor": 2
}
