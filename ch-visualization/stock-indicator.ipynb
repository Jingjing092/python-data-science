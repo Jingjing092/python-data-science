{
 "cells": [
  {
   "cell_type": "markdown",
   "metadata": {},
   "source": [
    "# 综合案例：金融市场数据可视化"
   ]
  },
  {
   "cell_type": "markdown",
   "metadata": {
    "tags": [
     "hide cell"
    ]
   },
   "source": [
    "import urllib.request\n",
    "import os\n",
    "import pandas as pd\n",
    "\n",
    "download_url_prefix = \"https://py-101.github.io/python-data-science/datasets/stock/ETFs\"\n",
    "folder_path = os.path.join(os.getcwd(), \"../data/stock/ETFs\")\n",
    "download_url = f\"{download_url_prefix}/spy.us.txt\"\n",
    "\n",
    "file_name = score_download_url.split(\"/\")[-1]\n",
    "file_path = os.path.join(folder_path, file_name)\n",
    "\n",
    "if not os.path.exists(folder_path):\n",
    "    # 创建文件夹\n",
    "    os.makedirs(folder_path)\n",
    "    print(f\"文件夹不存在，已创建。\")\n",
    "\n",
    "    urllib.request.urlretrieve(download_url, file_path)\n",
    "    print(\"数据已下载。\")\n",
    "else:\n",
    "    print(f\"文件夹已存在，无需操作。\")"
   ]
  }
 ],
 "metadata": {
  "kernelspec": {
   "display_name": "tpch",
   "language": "python",
   "name": "python3"
  },
  "language_info": {
   "name": "python",
   "version": "3.10.9"
  },
  "orig_nbformat": 4
 },
 "nbformat": 4,
 "nbformat_minor": 2
}
