{
 "cells": [
  {
   "cell_type": "markdown",
   "metadata": {},
   "source": [
    "# 随机数生成\n",
    "\n",
    "`numpy.random` 模块用于生成随机数。"
   ]
  },
  {
   "cell_type": "code",
   "execution_count": 101,
   "metadata": {
    "tags": [
     "hide-cell"
    ]
   },
   "outputs": [],
   "source": [
    "import numpy as np"
   ]
  },
  {
   "cell_type": "markdown",
   "metadata": {},
   "source": [
    " ## 随机数生成器\n",
    " Random Generator 提供了对各种分布（Distributions）的路径，并作为 RandomState 的替代。\n",
    "  Random Generator 依赖于一个附加的位生成器（BitGenerator）来管理状态和生成随机位（ bits），将随机位（random bits）从分布转换为随机值（random values）。 Random Generator 使用的默认位生成器（BitGenerator）是 `PCG64` 。可以通过将实例化的位生成器传递给生成器来更改位生成器。"
   ]
  },
  {
   "cell_type": "markdown",
   "metadata": {},
   "source": [
    "`default_rng(seed=None)` 是随机数类生成器的推荐构造函数。"
   ]
  },
  {
   "cell_type": "code",
   "execution_count": 102,
   "metadata": {},
   "outputs": [],
   "source": [
    "import numpy as np\n",
    "rng = np.random.default_rng() "
   ]
  },
  {
   "cell_type": "markdown",
   "metadata": {},
   "source": [
    "下面的例子中，我们用 `default_rng` 函数生成浮点型随机数（random float）。"
   ]
  },
  {
   "cell_type": "code",
   "execution_count": 103,
   "metadata": {},
   "outputs": [
    {
     "data": {
      "text/plain": [
       "0.22733602246716966"
      ]
     },
     "execution_count": 103,
     "metadata": {},
     "output_type": "execute_result"
    }
   ],
   "source": [
    "import numpy as np\n",
    "rng = np.random.default_rng(12345)\n",
    "\n",
    "rfloat = rng.random()\n",
    "rfloat"
   ]
  },
  {
   "cell_type": "markdown",
   "metadata": {},
   "source": [
    "查看 `rfloat` 的数据类型。"
   ]
  },
  {
   "cell_type": "code",
   "execution_count": 104,
   "metadata": {},
   "outputs": [
    {
     "data": {
      "text/plain": [
       "float"
      ]
     },
     "execution_count": 104,
     "metadata": {},
     "output_type": "execute_result"
    }
   ],
   "source": [
    "type(rfloat)"
   ]
  },
  {
   "cell_type": "markdown",
   "metadata": {},
   "source": [
    "接下来，我们用 `default_rng` 函数生成 3 个在 `[0,10)` 的随机数。"
   ]
  },
  {
   "cell_type": "code",
   "execution_count": 105,
   "metadata": {},
   "outputs": [
    {
     "data": {
      "text/plain": [
       "array([6, 2, 7], dtype=int64)"
      ]
     },
     "execution_count": 105,
     "metadata": {},
     "output_type": "execute_result"
    }
   ],
   "source": [
    "import numpy as np\n",
    "rng = np.random.default_rng(12345)\n",
    "rints = rng.integers(low=0, high=10, size=3)\n",
    "rints"
   ]
  },
  {
   "cell_type": "markdown",
   "metadata": {},
   "source": [
    "查看 `rints` 的数据类型。"
   ]
  },
  {
   "cell_type": "code",
   "execution_count": 106,
   "metadata": {},
   "outputs": [
    {
     "data": {
      "text/plain": [
       "numpy.int64"
      ]
     },
     "execution_count": 106,
     "metadata": {},
     "output_type": "execute_result"
    }
   ],
   "source": [
    "type(rints[0])"
   ]
  },
  {
   "cell_type": "markdown",
   "metadata": {},
   "source": [
    "### 随机数种子\n",
    "\n",
    "在计算机中，生成随机数通常是通过一个算法来实现，具体而言是实现一个伪随机数生成器，该生成器根据一个名为种子（Seed）的数值来生成一个随机数序列。随机数种子相当于是一个起始的引子，使用同样的种子会生成同样的随机数序列。因此种子值在生成随机数时起到了确定性的作用。\n",
    "\n",
    "随机数种子通常是一个整数，可以是任意值。在使用随机数生成器时，可以通过指定种子值来控制生成的随机数序列。如果不指定种子值，则通常会使用系统时间作为默认的种子值，以确保每次生成的随机数序列都是不同的。\n",
    "\n",
    "随机数种子在很多应用中都很重要，尤其是在需要重现随机结果的情况下。通过使用相同的种子值，可以确保在不同的计算机上生成的随机数序列是一致的。\n",
    "\n",
    "需要注意的是，由于计算机生成的随机数是基于算法的伪随机数，因此种子值的选择也会影响到生成的随机数的质量。较好的做法是选择一个高熵的种子值，以提高随机数的质量和安全性。\n",
    "\n",
    "在 NumPy 中，随机数种子用 `seed(s)` 方法来设置， `s` 是用户传入的种子值。\n",
    "\n",
    "下面的例子中，我们设置随机种子为 42 ，使用 `random()` 方法在 `[0,1)` 随机生成结构为 $2 \\times 3 \\times 4$ 的整数数组。因为我们设置了随机种子，每次运行下方随机数生成代码生成的随机数均相同。"
   ]
  },
  {
   "cell_type": "code",
   "execution_count": 107,
   "metadata": {},
   "outputs": [
    {
     "data": {
      "text/plain": [
       "array([[[0.77395605, 0.43887844, 0.85859792, 0.69736803],\n",
       "        [0.09417735, 0.97562235, 0.7611397 , 0.78606431],\n",
       "        [0.12811363, 0.45038594, 0.37079802, 0.92676499]],\n",
       "\n",
       "       [[0.64386512, 0.82276161, 0.4434142 , 0.22723872],\n",
       "        [0.55458479, 0.06381726, 0.82763117, 0.6316644 ],\n",
       "        [0.75808774, 0.35452597, 0.97069802, 0.89312112]]])"
      ]
     },
     "execution_count": 107,
     "metadata": {},
     "output_type": "execute_result"
    }
   ],
   "source": [
    "rng = np.random.default_rng(seed=42)\n",
    "arr1 = rng.random((2, 3, 4))\n",
    "arr1"
   ]
  },
  {
   "cell_type": "markdown",
   "metadata": {},
   "source": [
    "当我们退出Python编辑器后并重新启动，我们会发现在设置随机种子为 42 时，我们会得到同样的随机数。"
   ]
  },
  {
   "cell_type": "code",
   "execution_count": 108,
   "metadata": {},
   "outputs": [
    {
     "data": {
      "text/plain": [
       "array([[[0.77395605, 0.43887844, 0.85859792, 0.69736803],\n",
       "        [0.09417735, 0.97562235, 0.7611397 , 0.78606431],\n",
       "        [0.12811363, 0.45038594, 0.37079802, 0.92676499]],\n",
       "\n",
       "       [[0.64386512, 0.82276161, 0.4434142 , 0.22723872],\n",
       "        [0.55458479, 0.06381726, 0.82763117, 0.6316644 ],\n",
       "        [0.75808774, 0.35452597, 0.97069802, 0.89312112]]])"
      ]
     },
     "execution_count": 108,
     "metadata": {},
     "output_type": "execute_result"
    }
   ],
   "source": [
    "rng = np.random.default_rng(seed=42)\n",
    "arr2 = rng.random((2, 3, 4))\n",
    "arr2"
   ]
  },
  {
   "cell_type": "markdown",
   "metadata": {},
   "source": [
    ":::{note}\n",
    "\n",
    "在 RandomState 中的使用随机种子的情形。\n",
    "`seed` 函数用于设置随机种子。\n",
    "\n",
    "```\n",
    "np.random.seed(42)\n",
    "```\n",
    ":::"
   ]
  },
  {
   "cell_type": "markdown",
   "metadata": {},
   "source": [
    ":::{note}\n",
    "\n",
    "很多网络上的示例代码经常使用 42 作为随机种子值，这其实是一个约定俗成的习惯，但并不是出于任何特殊原因或技术要求。实际上，选择随机种子值是主观的，可以是任何整数。使用 42 作为随机种子值主要由于以下原因：\n",
    "\n",
    "1. 42 是一个著名的数字：在计算机科学和科幻文化中，数字 42 具有一定的象征意义。在道格拉斯 · 亚当斯的小说《银河系漫游指南》中，超级电脑 “深思照片” 认为生命、宇宙以及一切的答案是 42。因此，一些程序员选择 42 作为随机种子值，是一种幽默或致敬。\n",
    "\n",
    "2. 方便记忆：42 是一个简单的数字，使用它作为随机种子值可以更容易地记住和重现特定的随机数序列。\n",
    "\n",
    "值得注意的是，使用 42 作为随机种子值并不会使随机数序列更加随机或具有更高的质量。在实际应用中，选择随机种子值时应根据具体需求和安全性要求进行评估和选择。\n",
    ":::"
   ]
  },
  {
   "cell_type": "markdown",
   "metadata": {},
   "source": [
    "### 简单的随机数生成"
   ]
  },
  {
   "cell_type": "markdown",
   "metadata": {},
   "source": [
    "#### numpy.random.Generator.integers\n",
    "如果想要生成随机整数，可以使用函数 `integers(low, high=None, size=None, dtype=np.int64, endpoint=False)` ，数值范围为 $[low,high)$。\n",
    "若 `endpoint=True` ，则数值范围改变为 $[low,high]$。\n",
    "若 `high=None` (默认值)，则数值范围为 $[0,low]$。\n",
    "\n",
    "`integers()`函数可以从指定数据类型的“离散均匀”分布中返回随机整数。"
   ]
  },
  {
   "cell_type": "markdown",
   "metadata": {},
   "source": [
    "下面的例子，我们在 `[0,2)` 随机生成 10 个随机整数。"
   ]
  },
  {
   "cell_type": "code",
   "execution_count": 109,
   "metadata": {},
   "outputs": [
    {
     "data": {
      "text/plain": [
       "array([0, 0, 1, 0, 1, 0, 1, 0, 0, 1], dtype=int64)"
      ]
     },
     "execution_count": 109,
     "metadata": {},
     "output_type": "execute_result"
    }
   ],
   "source": [
    "rng = np.random.default_rng()\n",
    "rng.integers(low=2, high=None, size=10)"
   ]
  },
  {
   "cell_type": "markdown",
   "metadata": {},
   "source": [
    "接下来，我们在 `[0,5)` 随机生成结构为 $2 \\times 3 \\times 4$ 的整数数组。"
   ]
  },
  {
   "cell_type": "code",
   "execution_count": 110,
   "metadata": {},
   "outputs": [
    {
     "data": {
      "text/plain": [
       "array([[[4, 4, 2, 1],\n",
       "        [2, 3, 3, 3],\n",
       "        [0, 1, 4, 4]],\n",
       "\n",
       "       [[3, 0, 2, 1],\n",
       "        [4, 1, 3, 0],\n",
       "        [0, 1, 0, 1]]], dtype=int64)"
      ]
     },
     "execution_count": 110,
     "metadata": {},
     "output_type": "execute_result"
    }
   ],
   "source": [
    "rng.integers(low=5, high=None, size=(2, 3, 4))"
   ]
  },
  {
   "cell_type": "markdown",
   "metadata": {},
   "source": [
    "使用 `integers()` 函数，我们可以同时生成几个具有不同上限（或下限）的随机整数。\n",
    "例如，在下面的例子里，我们生成三组整数：\n"
   ]
  },
  {
   "cell_type": "markdown",
   "metadata": {},
   "source": [
    "在三个不同上限， `[1,3)` 、 `[1,5)` 、 `[1,1)` ，随机生成结构为 $1 \\times 3$ 的整数数组 `arr1` 。"
   ]
  },
  {
   "cell_type": "code",
   "execution_count": 111,
   "metadata": {},
   "outputs": [
    {
     "data": {
      "text/plain": [
       "array([1, 2, 3], dtype=int64)"
      ]
     },
     "execution_count": 111,
     "metadata": {},
     "output_type": "execute_result"
    }
   ],
   "source": [
    "arr1 = rng.integers(1,[3,5,10])\n",
    "arr1"
   ]
  },
  {
   "cell_type": "markdown",
   "metadata": {},
   "source": [
    "在三个不同下限， `[1,10)` 、 `[3,10)` 、 `[5,10)` ，随机生成结构为 $1 \\times 3$ 的整数数组 `arr2` 。"
   ]
  },
  {
   "cell_type": "code",
   "execution_count": 112,
   "metadata": {},
   "outputs": [
    {
     "data": {
      "text/plain": [
       "array([8, 3, 8], dtype=int64)"
      ]
     },
     "execution_count": 112,
     "metadata": {},
     "output_type": "execute_result"
    }
   ],
   "source": [
    "arr2 = rng.integers([1,3,5],10)\n",
    "arr2"
   ]
  },
  {
   "cell_type": "markdown",
   "metadata": {},
   "source": [
    "随机生成结构为 $2 \\times 4$ 的整数数组 `arr3` 。"
   ]
  },
  {
   "cell_type": "code",
   "execution_count": 113,
   "metadata": {},
   "outputs": [
    {
     "data": {
      "text/plain": [
       "array([[ 6,  9,  6,  7],\n",
       "       [11, 19,  7, 18]], dtype=int64)"
      ]
     },
     "execution_count": 113,
     "metadata": {},
     "output_type": "execute_result"
    }
   ],
   "source": [
    "arr3 = rng.integers([1,3,5,7],[[10],[20]])\n",
    "arr3"
   ]
  },
  {
   "cell_type": "markdown",
   "metadata": {},
   "source": [
    "#### numpy.random.Generator.random\n",
    "如果想要生成浮点型随机数，可以使用函数 `random(size=None, dtype=np.float64, out=None)` ，数值范围为 $[0.0, 1.0)$。"
   ]
  },
  {
   "cell_type": "markdown",
   "metadata": {},
   "source": [
    "下面的例子，我们生成数值范围为 $[0.0, 1.0)$ 的浮点型随机数。"
   ]
  },
  {
   "cell_type": "code",
   "execution_count": 114,
   "metadata": {},
   "outputs": [],
   "source": [
    "rng = np.random.default_rng()\n",
    "rfloat = rng.random()"
   ]
  },
  {
   "cell_type": "markdown",
   "metadata": {},
   "source": [
    "查看 `rfloat` 的数值类型。"
   ]
  },
  {
   "cell_type": "code",
   "execution_count": 115,
   "metadata": {},
   "outputs": [
    {
     "data": {
      "text/plain": [
       "float"
      ]
     },
     "execution_count": 115,
     "metadata": {},
     "output_type": "execute_result"
    }
   ],
   "source": [
    "type(rfloat)"
   ]
  },
  {
   "cell_type": "markdown",
   "metadata": {},
   "source": [
    "随机生成维度为 $2 \\times 2 \\times 3$ 的数组，服从 `[0,1)` 均匀分布。"
   ]
  },
  {
   "cell_type": "code",
   "execution_count": 116,
   "metadata": {},
   "outputs": [
    {
     "data": {
      "text/plain": [
       "array([[[0.2073819 , 0.45109766, 0.11144231],\n",
       "        [0.31459053, 0.96181749, 0.51069735]],\n",
       "\n",
       "       [[0.12316105, 0.28584553, 0.64919064],\n",
       "        [0.16431859, 0.54446116, 0.20158993]]])"
      ]
     },
     "execution_count": 116,
     "metadata": {},
     "output_type": "execute_result"
    }
   ],
   "source": [
    "rng.random((2, 2, 3))"
   ]
  },
  {
   "cell_type": "markdown",
   "metadata": {},
   "source": [
    "对于 `[a,b)`的样本，若想要随机生成来自指定间隔内的“连续均匀”分布，可以使用 `uniform` 函数或将 `random` 的输出乘以 `(b - a)` 并添加 `a` ：\n",
    " `(b - a) * random() + a` "
   ]
  },
  {
   "cell_type": "markdown",
   "metadata": {},
   "source": [
    "下面的例子，我们在 `[-5,0)` 随机生成结构为 $3 \\times 2$ 的整数数组。 "
   ]
  },
  {
   "cell_type": "code",
   "execution_count": 117,
   "metadata": {},
   "outputs": [
    {
     "data": {
      "text/plain": [
       "array([[-0.4975739 , -0.4574985 ],\n",
       "       [-4.95251511, -3.05050157],\n",
       "       [-4.1681064 , -4.90451822]])"
      ]
     },
     "execution_count": 117,
     "metadata": {},
     "output_type": "execute_result"
    }
   ],
   "source": [
    "5 * rng.random((3, 2)) - 5"
   ]
  },
  {
   "cell_type": "markdown",
   "metadata": {},
   "source": [
    ":::{note}\n",
    " \n",
    "在 RandomState 中的随机数生成情形。\n",
    "##### 均匀分布\n",
    "\n",
    "在 RandomState 中，函数`rand(d0, d1, ..., dn)` 是使用最多的随机数生成方法，其中 `d0-dn` 用来设置数组的维度，最终生成一个 `[0,1)` 之间的 N 维浮点数组。\n",
    "例如，随机生成维度为 $2 \\times 2 \\times 3$ 的数组，服从 `[0,1)` 均匀分布。\n",
    "\n",
    "```\n",
    "np.random.rand(2, 2, 3)\n",
    "```\n",
    "\n",
    "##### 正态分布\n",
    "\n",
    "`randn(d0, d1, ..., dn)` 方法生成的浮点数服从标准正态分布。\n",
    "\n",
    "例如，随机生成维度为 $2 \\times 2 \\times 3$ 的数组，服从标准正态分布。\n",
    "\n",
    "```\n",
    "np.random.randn(2, 2, 3)\n",
    "```\n",
    "\n",
    "##### 数值范围\n",
    "\n",
    "如果想设置随机数生成的数值范围，可以使用 `randint(low, high, size)`，数值范围为 $[low,high)$。\n",
    "\n",
    "```\n",
    "np.random.randint(low=100, high=400, size=(2,3,4)) \n",
    "```\n",
    ":::"
   ]
  },
  {
   "cell_type": "markdown",
   "metadata": {},
   "source": [
    "### 排列\n",
    "\n",
    "一个典型的随机数场景是生成排列组合。 \n",
    "\n",
    "`shuffle(x[, axis])` 方法就像扑克牌中的洗牌，可以在原地打乱对象 `x` 。如果 `x` 是多维数组，则按照第一维“洗牌”。现在，我们在 $[100,400)$ 范围内生成随机整数数组，并将生成的矩阵按照行“洗牌”。"
   ]
  },
  {
   "cell_type": "code",
   "execution_count": 118,
   "metadata": {},
   "outputs": [
    {
     "name": "stdout",
     "output_type": "stream",
     "text": [
      "===before shuffle===\n",
      "[[391 278]\n",
      " [169 346]\n",
      " [323 237]]\n",
      "===after shuffle===\n",
      "[[391 278]\n",
      " [169 346]\n",
      " [323 237]]\n"
     ]
    }
   ],
   "source": [
    "x  = rng.integers(100,400,size=(3,2))\n",
    "print(\"===before shuffle===\")\n",
    "print(x)\n",
    "rng.shuffle(x)\n",
    "print(\"===after shuffle===\")\n",
    "print(x)"
   ]
  },
  {
   "cell_type": "markdown",
   "metadata": {},
   "source": [
    ":::{note}\n",
    "\n",
    "在  RandomState 的进行排列的情形。\n",
    "以 `shuffle(x)` 函数为例，`permuted(x)`和 `permutation()` 函数代码结构相同。\n",
    "\n",
    "```\n",
    "x = np.random.randint(100, 400, (3, 2))\n",
    "print(\"===before shuffle===\")\n",
    "print(x)\n",
    "np.random.shuffle(x)\n",
    "print(\"===after shuffle===\")\n",
    "print(x)\n",
    "```\n",
    ":::"
   ]
  },
  {
   "cell_type": "markdown",
   "metadata": {},
   "source": [
    "`permutation(x[, axis])` 方法生成了某种可能的排列。如果 `x` 是多维数组，则按照第一维生成一种新的排列。"
   ]
  },
  {
   "cell_type": "code",
   "execution_count": 119,
   "metadata": {},
   "outputs": [
    {
     "data": {
      "text/plain": [
       "array([4, 2, 9, 1, 5, 7, 6, 8, 3, 0])"
      ]
     },
     "execution_count": 119,
     "metadata": {},
     "output_type": "execute_result"
    }
   ],
   "source": [
    "rng.permutation(10)"
   ]
  },
  {
   "cell_type": "code",
   "execution_count": 120,
   "metadata": {},
   "outputs": [
    {
     "data": {
      "text/plain": [
       "array([ 9,  4,  1, 12, 15])"
      ]
     },
     "execution_count": 120,
     "metadata": {},
     "output_type": "execute_result"
    }
   ],
   "source": [
    "rng.permutation([1, 4, 9, 12, 15])"
   ]
  },
  {
   "cell_type": "code",
   "execution_count": 121,
   "metadata": {},
   "outputs": [
    {
     "data": {
      "text/plain": [
       "array([[374, 218],\n",
       "       [245, 138],\n",
       "       [319, 209]], dtype=int64)"
      ]
     },
     "execution_count": 121,
     "metadata": {},
     "output_type": "execute_result"
    }
   ],
   "source": [
    "x  = rng.integers(100,400,size=(3,2))\n",
    "rng.permutation(x)"
   ]
  },
  {
   "cell_type": "markdown",
   "metadata": {},
   "source": [
    "`permuted(x[, axis, out]` 方法可以随机生成沿着轴 `axis` 随机排列 `x` 。\n",
    "与 `shuffle(x)` 不同，给定轴上的每个切片都独立于其他切片进行“洗牌”。\n",
    "\n",
    "`axis` ：x轴上的切片被混洗。\n",
    "每个切片独立于其他切片进行洗牌。如果axis为None，则打乱展平的数组。"
   ]
  },
  {
   "cell_type": "markdown",
   "metadata": {},
   "source": [
    "下面的例子，我们首先生成一个测试数组 `x`："
   ]
  },
  {
   "cell_type": "code",
   "execution_count": 122,
   "metadata": {},
   "outputs": [
    {
     "data": {
      "text/plain": [
       "array([[ 6,  5,  8,  1, 14],\n",
       "       [ 4,  3,  7,  4,  7],\n",
       "       [ 8,  0,  9,  1,  9]], dtype=int64)"
      ]
     },
     "execution_count": 122,
     "metadata": {},
     "output_type": "execute_result"
    }
   ],
   "source": [
    "x  = rng.integers(15,size=(3,5))\n",
    "x"
   ]
  },
  {
   "cell_type": "markdown",
   "metadata": {},
   "source": [
    "沿行打乱 `x` ："
   ]
  },
  {
   "cell_type": "code",
   "execution_count": 123,
   "metadata": {},
   "outputs": [
    {
     "data": {
      "text/plain": [
       "array([[ 8, 14,  6,  5,  1],\n",
       "       [ 7,  4,  4,  7,  3],\n",
       "       [ 0,  9,  1,  8,  9]], dtype=int64)"
      ]
     },
     "execution_count": 123,
     "metadata": {},
     "output_type": "execute_result"
    }
   ],
   "source": [
    "y = rng.permuted(x, axis=1)\n",
    "y"
   ]
  },
  {
   "cell_type": "markdown",
   "metadata": {},
   "source": [
    "沿列打乱 `x` ："
   ]
  },
  {
   "cell_type": "code",
   "execution_count": 124,
   "metadata": {},
   "outputs": [
    {
     "data": {
      "text/plain": [
       "array([[ 6,  0,  9,  1,  9],\n",
       "       [ 4,  3,  7,  4, 14],\n",
       "       [ 8,  5,  8,  1,  7]], dtype=int64)"
      ]
     },
     "execution_count": 124,
     "metadata": {},
     "output_type": "execute_result"
    }
   ],
   "source": [
    "z = rng.permuted(x, axis=0)\n",
    "z"
   ]
  },
  {
   "cell_type": "markdown",
   "metadata": {},
   "source": [
    "查看 `x` ，发现 `x` 没有被更改："
   ]
  },
  {
   "cell_type": "code",
   "execution_count": 125,
   "metadata": {},
   "outputs": [
    {
     "data": {
      "text/plain": [
       "array([[ 6,  5,  8,  1, 14],\n",
       "       [ 4,  3,  7,  4,  7],\n",
       "       [ 8,  0,  9,  1,  9]], dtype=int64)"
      ]
     },
     "execution_count": 125,
     "metadata": {},
     "output_type": "execute_result"
    }
   ],
   "source": [
    "x"
   ]
  },
  {
   "cell_type": "markdown",
   "metadata": {},
   "source": [
    "若要“就地”移动x的行，即改变 `x` 本身，我们需要将 `x` 作为 `out` 参数设置。\n",
    "注意，当给定 `out` 参数时，返回值是 `out` 。"
   ]
  },
  {
   "cell_type": "code",
   "execution_count": 126,
   "metadata": {},
   "outputs": [
    {
     "data": {
      "text/plain": [
       "array([[ 8,  6,  5,  1, 14],\n",
       "       [ 7,  7,  4,  3,  4],\n",
       "       [ 0,  1,  9,  9,  8]], dtype=int64)"
      ]
     },
     "execution_count": 126,
     "metadata": {},
     "output_type": "execute_result"
    }
   ],
   "source": [
    "y = rng.permuted(x, axis=1, out=x)\n",
    "x"
   ]
  },
  {
   "cell_type": "markdown",
   "metadata": {},
   "source": [
    "现在验证原测试数组 `x` ，与返回值 `y` 是否一致，即 `x` 是否“就地”按行打乱。"
   ]
  },
  {
   "cell_type": "code",
   "execution_count": 127,
   "metadata": {},
   "outputs": [
    {
     "data": {
      "text/plain": [
       "True"
      ]
     },
     "execution_count": 127,
     "metadata": {},
     "output_type": "execute_result"
    }
   ],
   "source": [
    "y is x"
   ]
  },
  {
   "cell_type": "markdown",
   "metadata": {},
   "source": [
    "### 分布\n",
    "`numpy.random` 模块中增加了用于高效生成多种概率分布的样本值的函数。\n",
    "\n",
    "#### 离散型随机变量\n",
    "##### 二项分布\n",
    "\n",
    "`binomial(n, p, size=None)` 从二项分布中抽取样本。\n",
    "参数包括：\n",
    "`n` （试验次数，数值范围为 $[0,+∞)$）; `p` （成功概率，数值范围为 $[0,1]$）; `size` （输出的形状）。"
   ]
  },
  {
   "cell_type": "markdown",
   "metadata": {},
   "source": [
    "从分布中抽取样本："
   ]
  },
  {
   "cell_type": "code",
   "execution_count": 128,
   "metadata": {},
   "outputs": [],
   "source": [
    "rng = np.random.default_rng()\n",
    "n, p = 10, .5  \n",
    "s = rng.binomial(n, p, 1000)"
   ]
  },
  {
   "cell_type": "markdown",
   "metadata": {},
   "source": [
    "下面我们来进行一个真实的例子，一家公司钻了9口石油勘探井，每口井的成功概率估计为0.1。\n",
    "九口井全部失败。发生这种情况的可能性有多大？ 让我们对该模型进行20，000次试验，并计算发生上述情况的概率。"
   ]
  },
  {
   "cell_type": "code",
   "execution_count": 129,
   "metadata": {},
   "outputs": [
    {
     "data": {
      "text/plain": [
       "0.3883"
      ]
     },
     "execution_count": 129,
     "metadata": {},
     "output_type": "execute_result"
    }
   ],
   "source": [
    "sum(rng.binomial(9, 0.1, 20000) == 0)/20000"
   ]
  },
  {
   "cell_type": "markdown",
   "metadata": {},
   "source": [
    "\n",
    "##### 泊松分布\n",
    "\n",
    "`poisson(lam=1.0, size=None)` 从泊松分布中抽取样本。 \n",
    "泊松分布是二项分布对于大N的极限。"
   ]
  },
  {
   "cell_type": "markdown",
   "metadata": {},
   "source": [
    "从分布中抽取样本："
   ]
  },
  {
   "cell_type": "code",
   "execution_count": 130,
   "metadata": {},
   "outputs": [
    {
     "data": {
      "text/plain": [
       "array([4, 6, 3, ..., 9, 3, 3], dtype=int64)"
      ]
     },
     "execution_count": 130,
     "metadata": {},
     "output_type": "execute_result"
    }
   ],
   "source": [
    "rng = np.random.default_rng()\n",
    "s = rng.poisson(5, 10000)\n",
    "s"
   ]
  },
  {
   "cell_type": "markdown",
   "metadata": {},
   "source": [
    "##### 超几何分布\n",
    "\n",
    "`hypergeometric(ngood, nbad, nsample, size=None)` 函数从超几何分布中抽取样本。 \n",
    "参数包括:\n",
    "`ngood` (做出好的选择的方法数量)、 `nbad` (做出坏的选择的方法数量)和 `nsample` (采样的项目数，小于或等于ngood + nbad之和)。\n",
    "`size` （输出的形状）。\n",
    "以上参数均非负。"
   ]
  },
  {
   "cell_type": "code",
   "execution_count": 131,
   "metadata": {},
   "outputs": [
    {
     "data": {
      "text/plain": [
       "array([10, 10,  9, 10, 10, 10,  9, 10, 10, 10, 10, 10, 10, 10,  9,  9, 10,\n",
       "       10, 10, 10, 10, 10, 10,  9,  9, 10, 10, 10, 10, 10, 10, 10, 10, 10,\n",
       "       10, 10, 10, 10, 10,  9, 10, 10, 10,  9, 10,  9, 10, 10, 10, 10, 10,\n",
       "        9, 10, 10, 10,  9, 10, 10, 10, 10,  9, 10, 10, 10,  9, 10, 10, 10,\n",
       "       10,  9, 10, 10,  9, 10, 10, 10, 10, 10, 10, 10, 10, 10, 10, 10, 10,\n",
       "       10, 10, 10, 10, 10,  9, 10, 10, 10, 10,  9, 10, 10, 10,  9,  9, 10,\n",
       "       10,  9, 10, 10,  9, 10, 10, 10, 10, 10, 10,  9,  9, 10, 10, 10, 10,\n",
       "       10, 10, 10, 10, 10, 10, 10, 10, 10, 10, 10, 10, 10, 10, 10, 10, 10,\n",
       "       10, 10, 10, 10, 10, 10, 10, 10,  9, 10, 10, 10, 10, 10, 10, 10, 10,\n",
       "       10, 10,  9, 10, 10, 10, 10, 10, 10, 10, 10, 10, 10,  9, 10, 10, 10,\n",
       "       10, 10, 10, 10, 10, 10, 10,  9, 10, 10, 10, 10, 10,  9, 10,  9, 10,\n",
       "       10, 10, 10, 10, 10, 10, 10, 10, 10, 10, 10, 10,  9, 10, 10, 10, 10,\n",
       "       10, 10, 10, 10, 10, 10, 10, 10,  9, 10, 10, 10, 10, 10, 10,  9, 10,\n",
       "       10, 10, 10, 10, 10, 10, 10,  9, 10, 10,  9, 10, 10, 10, 10, 10, 10,\n",
       "       10, 10, 10, 10,  9, 10, 10, 10, 10,  9,  9, 10, 10, 10, 10, 10,  9,\n",
       "        9, 10, 10, 10, 10, 10, 10, 10, 10, 10, 10, 10, 10,  8, 10, 10, 10,\n",
       "       10, 10, 10, 10, 10, 10, 10, 10,  9, 10, 10, 10, 10, 10, 10, 10, 10,\n",
       "       10, 10, 10, 10,  9, 10, 10, 10, 10, 10,  9, 10, 10, 10, 10,  9,  9,\n",
       "        9, 10, 10, 10, 10, 10, 10, 10, 10, 10, 10, 10, 10,  9,  9, 10, 10,\n",
       "        9, 10,  9, 10,  8, 10, 10, 10, 10, 10, 10, 10, 10, 10, 10,  8, 10,\n",
       "       10, 10,  9,  9, 10,  9,  9, 10, 10, 10, 10, 10, 10, 10, 10, 10, 10,\n",
       "       10, 10, 10, 10, 10, 10, 10,  9, 10, 10,  9, 10,  9, 10,  9, 10,  9,\n",
       "       10, 10, 10, 10, 10, 10, 10, 10, 10, 10,  9, 10, 10,  9, 10,  9,  9,\n",
       "        9, 10,  9, 10, 10, 10, 10, 10, 10, 10,  9, 10, 10, 10, 10, 10, 10,\n",
       "       10, 10, 10, 10,  9, 10,  9,  9,  9, 10, 10, 10, 10, 10, 10, 10, 10,\n",
       "       10, 10, 10, 10,  9, 10, 10, 10, 10,  9, 10, 10, 10, 10, 10,  9,  9,\n",
       "       10, 10, 10, 10, 10, 10, 10, 10, 10, 10, 10, 10,  9, 10, 10, 10, 10,\n",
       "       10, 10, 10, 10, 10, 10, 10, 10, 10, 10,  9, 10, 10, 10, 10, 10,  9,\n",
       "       10, 10,  8, 10, 10, 10, 10, 10,  9,  9, 10,  9, 10, 10, 10,  9, 10,\n",
       "        9, 10, 10,  9, 10, 10, 10, 10, 10, 10, 10, 10, 10, 10, 10, 10, 10,\n",
       "       10, 10,  9,  9, 10, 10, 10, 10,  9, 10, 10, 10, 10, 10, 10, 10, 10,\n",
       "       10, 10, 10, 10, 10, 10,  9, 10, 10,  9,  9,  9,  9, 10, 10, 10, 10,\n",
       "       10, 10,  9, 10,  9, 10, 10, 10, 10,  9, 10, 10, 10, 10, 10, 10, 10,\n",
       "       10, 10, 10, 10,  9, 10, 10, 10, 10, 10, 10, 10,  9, 10, 10, 10, 10,\n",
       "        8, 10, 10, 10, 10, 10, 10, 10,  8,  9, 10,  9, 10, 10, 10,  9, 10,\n",
       "       10, 10, 10, 10, 10, 10, 10, 10, 10,  9, 10, 10,  9, 10, 10, 10, 10,\n",
       "       10, 10, 10,  8, 10, 10, 10, 10, 10, 10, 10,  9,  9, 10, 10, 10, 10,\n",
       "       10, 10, 10, 10, 10, 10, 10, 10, 10, 10, 10, 10, 10, 10, 10,  9, 10,\n",
       "       10,  9, 10, 10, 10, 10, 10, 10, 10,  9, 10, 10, 10, 10,  9,  9, 10,\n",
       "       10, 10, 10, 10, 10, 10,  9, 10,  9, 10, 10, 10, 10, 10, 10, 10, 10,\n",
       "       10,  9, 10, 10, 10, 10, 10, 10, 10, 10, 10, 10, 10, 10, 10, 10, 10,\n",
       "       10, 10, 10, 10, 10, 10,  9,  9, 10, 10, 10,  9, 10, 10, 10, 10, 10,\n",
       "       10, 10, 10, 10, 10, 10, 10, 10, 10, 10,  9, 10, 10,  9, 10, 10, 10,\n",
       "       10, 10, 10, 10,  9, 10, 10, 10, 10, 10, 10, 10, 10, 10, 10,  9,  9,\n",
       "       10, 10,  9,  9, 10, 10, 10, 10, 10,  9,  9,  9,  9, 10, 10,  9, 10,\n",
       "       10, 10, 10, 10, 10, 10, 10,  9,  9, 10, 10, 10, 10,  9, 10, 10, 10,\n",
       "       10, 10, 10, 10, 10, 10, 10, 10, 10, 10, 10,  9, 10, 10, 10, 10, 10,\n",
       "       10, 10, 10, 10, 10, 10, 10, 10, 10, 10, 10, 10, 10, 10, 10,  8, 10,\n",
       "       10, 10,  9, 10, 10, 10, 10, 10, 10, 10,  9, 10, 10,  9, 10, 10, 10,\n",
       "       10, 10, 10, 10,  9, 10, 10, 10, 10,  9, 10, 10, 10, 10,  9, 10, 10,\n",
       "       10, 10,  9, 10, 10, 10,  9, 10, 10, 10, 10, 10, 10, 10, 10, 10, 10,\n",
       "       10,  9,  9, 10, 10, 10, 10, 10, 10,  9, 10, 10, 10, 10, 10, 10, 10,\n",
       "        9, 10, 10, 10, 10, 10, 10,  9, 10, 10, 10, 10, 10, 10, 10, 10, 10,\n",
       "       10, 10, 10,  9, 10, 10, 10, 10, 10,  9, 10, 10, 10, 10, 10, 10, 10,\n",
       "        9, 10, 10, 10,  9,  9, 10, 10,  9, 10, 10,  9, 10, 10, 10, 10, 10,\n",
       "       10, 10,  9, 10,  9, 10, 10, 10, 10,  9,  9,  9, 10, 10, 10, 10, 10,\n",
       "        9, 10, 10, 10,  9, 10,  9, 10, 10,  9, 10, 10,  9,  9,  8, 10, 10,\n",
       "       10, 10,  9, 10,  9, 10, 10, 10, 10,  9, 10, 10, 10, 10, 10, 10, 10,\n",
       "       10,  9, 10, 10, 10, 10, 10, 10, 10, 10, 10,  9, 10, 10],\n",
       "      dtype=int64)"
      ]
     },
     "execution_count": 131,
     "metadata": {},
     "output_type": "execute_result"
    }
   ],
   "source": [
    "rng = np.random.default_rng()\n",
    "ngood, nbad, nsamp = 100, 2, 10\n",
    "s = rng.hypergeometric(ngood, nbad, nsamp, 1000)\n",
    "s"
   ]
  },
  {
   "cell_type": "markdown",
   "metadata": {},
   "source": [
    "例如，假设你有一个装有15颗白色弹珠和15颗黑色小球的弹珠。如果你随机抽取15颗弹珠，其中12颗或更多是一种颜色的可能性有多大？"
   ]
  },
  {
   "cell_type": "code",
   "execution_count": 132,
   "metadata": {},
   "outputs": [
    {
     "data": {
      "text/plain": [
       "0.0029100000000000003"
      ]
     },
     "execution_count": 132,
     "metadata": {},
     "output_type": "execute_result"
    }
   ],
   "source": [
    "s = rng.hypergeometric(15, 15, 15, 100000)\n",
    "sum(s>=12)/100000. + sum(s<=3)/100000 "
   ]
  },
  {
   "cell_type": "markdown",
   "metadata": {},
   "source": [
    "#### 连续性随机变量\n",
    "##### 均匀分布\n",
    "\n",
    "`uniform(low, high, size)` 从均匀分布中抽取样本。\n",
    "参数包括:\n",
    "`low` （输出间隔的下限，默认值为 0。）；`high` （输出间隔的上限，默认值为 1。）；`size` （输出的形状）。\n"
   ]
  },
  {
   "cell_type": "markdown",
   "metadata": {},
   "source": [
    "下面我们从分布中抽取样本："
   ]
  },
  {
   "cell_type": "code",
   "execution_count": 133,
   "metadata": {},
   "outputs": [],
   "source": [
    "np.random.default_rng()\n",
    "s = rng.uniform(-1, 0 ,1000)"
   ]
  },
  {
   "cell_type": "markdown",
   "metadata": {},
   "source": [
    "##### 正态分布\n",
    "\n",
    "`normal(loc, scale, size)` 函数从正态(高斯)分布中抽取随机样本。 \n",
    "参数包括:\n",
    "`loc` （分布的平均值，默认值为 0。）；`scale` （分布的标准差,必须非负，默认值为 1。）；`size` （输出的形状）。"
   ]
  },
  {
   "cell_type": "markdown",
   "metadata": {},
   "source": [
    "下面我们从分布中抽取样本："
   ]
  },
  {
   "cell_type": "code",
   "execution_count": 134,
   "metadata": {},
   "outputs": [],
   "source": [
    "np.random.default_rng()\n",
    "s = rng.uniform(0, 0.1 ,1000)"
   ]
  },
  {
   "cell_type": "markdown",
   "metadata": {},
   "source": [
    "接下来，我们随机生成一个正态分布的样本的 $2 \\times 4$ 序列，平均值为 3 ，标准差为 2.5 :"
   ]
  },
  {
   "cell_type": "code",
   "execution_count": 135,
   "metadata": {},
   "outputs": [
    {
     "data": {
      "text/plain": [
       "array([[2.94842473, 3.54678162, 3.91555144, 3.64052442],\n",
       "       [4.52538844, 3.57611137, 7.39463323, 5.23809627]])"
      ]
     },
     "execution_count": 135,
     "metadata": {},
     "output_type": "execute_result"
    }
   ],
   "source": [
    "rng.normal(3, 2.5, size=(2, 4))"
   ]
  },
  {
   "cell_type": "markdown",
   "metadata": {},
   "source": [
    "##### 指数分布\n",
    "\n",
    "`exponential(scale, size)` 函数从指数分布中抽取样本。\n",
    "参数包括:\n",
    "`scale` （比例参数，必须非负，默认值为 1。）；`size` （输出的形状）。"
   ]
  },
  {
   "cell_type": "markdown",
   "metadata": {},
   "source": [
    "下面我们从分布中抽取样本："
   ]
  },
  {
   "cell_type": "code",
   "execution_count": 136,
   "metadata": {},
   "outputs": [],
   "source": [
    "s = rng.exponential(3,1000)"
   ]
  },
  {
   "cell_type": "markdown",
   "metadata": {},
   "source": [
    "接下来我们来解决一道数学应用题目：\n",
    "假设一家公司有10000个客户支持代理，客户呼叫之间的平均时间是4分钟，客户在接下来的4到5分钟内打电话的概率有多大？"
   ]
  },
  {
   "cell_type": "code",
   "execution_count": 137,
   "metadata": {},
   "outputs": [
    {
     "data": {
      "text/plain": [
       "0.0786"
      ]
     },
     "execution_count": 137,
     "metadata": {},
     "output_type": "execute_result"
    }
   ],
   "source": [
    "n = 10000\n",
    "time_between_calls = rng.exponential(scale=4, size=n) #题目告知参数设置\n",
    "x = ((time_between_calls < 5).sum())/n  #客户在5分钟内打电话的概率\n",
    "y = ((time_between_calls < 4).sum())/n  #客户在4分钟内打电话的概率\n",
    "x-y  #得到客户在4到5分钟内打电话的概率"
   ]
  }
 ],
 "metadata": {
  "kernelspec": {
   "display_name": "Python 3",
   "language": "python",
   "name": "python3"
  },
  "language_info": {
   "codemirror_mode": {
    "name": "ipython",
    "version": 3
   },
   "file_extension": ".py",
   "mimetype": "text/x-python",
   "name": "python",
   "nbconvert_exporter": "python",
   "pygments_lexer": "ipython3",
   "version": "3.11.5"
  }
 },
 "nbformat": 4,
 "nbformat_minor": 2
}
