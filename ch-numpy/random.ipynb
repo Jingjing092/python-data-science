{
 "cells": [
  {
   "cell_type": "markdown",
   "metadata": {},
   "source": [
    "# 随机数生成\n",
    "\n",
    "`numpy.random` 模块用于生成随机数。"
   ]
  },
  {
   "cell_type": "code",
   "execution_count": 1,
   "metadata": {
    "tags": [
     "hide-cell"
    ]
   },
   "outputs": [],
   "source": [
    "import numpy as np"
   ]
  },
  {
   "cell_type": "markdown",
   "metadata": {},
   "source": [
    "## 随机数种子\n",
    "\n",
    "在计算机中，生成随机数通常是通过一个算法来实现，具体而言是实现一个伪随机数生成器，该生成器根据一个名为种子（Seed）的数值来生成一个随机数序列。随机数种子相当于是一个起始的引子，使用同样的种子会生成同样的随机数序列。因此种子值在生成随机数时起到了确定性的作用。\n",
    "\n",
    "随机数种子通常是一个整数，可以是任意值。在使用随机数生成器时，可以通过指定种子值来控制生成的随机数序列。如果不指定种子值，则通常会使用系统时间作为默认的种子值，以确保每次生成的随机数序列都是不同的。\n",
    "\n",
    "随机数种子在很多应用中都很重要，尤其是在需要重现随机结果的情况下。通过使用相同的种子值，可以确保在不同的计算机上生成的随机数序列是一致的。\n",
    "\n",
    "需要注意的是，由于计算机生成的随机数是基于算法的伪随机数，因此种子值的选择也会影响到生成的随机数的质量。较好的做法是选择一个高熵的种子值，以提高随机数的质量和安全性。\n",
    "\n",
    "在 NumPy 中，随机数种子用 `seed(s)` 方法来设置， `s` 是用户传入的种子值。\n",
    "\n",
    "下面的例子中，我们设置随机种子为 42 ，使用 `randint()` 方法在 `[100, 400)` 之前随机生成结构为 $2 \\times 3 \\times 4$ 的整数数组。因为我们设置了随机种子，每次运行下方随机数生成代码生成的随机数均相同。"
   ]
  },
  {
   "cell_type": "code",
   "execution_count": 2,
   "metadata": {},
   "outputs": [
    {
     "data": {
      "text/plain": [
       "array([[[202, 370, 206, 171],\n",
       "        [288, 120, 202, 221],\n",
       "        [314, 187, 199, 251]],\n",
       "\n",
       "       [[230, 249, 357, 393],\n",
       "        [291, 376, 260, 121],\n",
       "        [352, 335, 148, 158]]])"
      ]
     },
     "execution_count": 2,
     "metadata": {},
     "output_type": "execute_result"
    }
   ],
   "source": [
    "np.random.seed(42) \n",
    "np.random.randint(100, 400, (2, 3, 4)) "
   ]
  },
  {
   "cell_type": "markdown",
   "metadata": {},
   "source": [
    ":::{note}\n",
    "\n",
    "很多网络上的示例代码经常使用 42 作为随机种子值，这其实是一个约定俗成的习惯，但并不是出于任何特殊原因或技术要求。实际上，选择随机种子值是主观的，可以是任何整数。使用 42 作为随机种子值主要由于以下原因：\n",
    "\n",
    "1. 42 是一个著名的数字：在计算机科学和科幻文化中，数字 42 具有一定的象征意义。在道格拉斯 · 亚当斯的小说《银河系漫游指南》中，超级电脑 “深思照片” 认为生命、宇宙以及一切的答案是 42。因此，一些程序员选择 42 作为随机种子值，是一种幽默或致敬。\n",
    "\n",
    "2. 方便记忆：42 是一个简单的数字，使用它作为随机种子值可以更容易地记住和重现特定的随机数序列。\n",
    "\n",
    "值得注意的是，使用 42 作为随机种子值并不会使随机数序列更加随机或具有更高的质量。在实际应用中，选择随机种子值时应根据具体需求和安全性要求进行评估和选择。\n",
    ":::"
   ]
  },
  {
   "cell_type": "markdown",
   "metadata": {},
   "source": [
    "## 随机数生成\n",
    "\n",
    "### 均匀分布\n",
    "\n",
    "`rand(d0, d1, ..., dn)` 是使用最多的随机数生成方法，其中 `d0-dn` 用来设置数组的维度，最终生成一个 `[0,1)` 之间的 N 维浮点数组。\n",
    "\n",
    "例如，随机生成维度为 $2 \\times 2 \\times 3$ 的数组，服从 `[0,1)` 均匀分布。"
   ]
  },
  {
   "cell_type": "code",
   "execution_count": 3,
   "metadata": {},
   "outputs": [
    {
     "data": {
      "text/plain": [
       "array([[[0.39986097, 0.04666566, 0.97375552],\n",
       "        [0.23277134, 0.09060643, 0.61838601]],\n",
       "\n",
       "       [[0.38246199, 0.98323089, 0.46676289],\n",
       "        [0.85994041, 0.68030754, 0.45049925]]])"
      ]
     },
     "execution_count": 3,
     "metadata": {},
     "output_type": "execute_result"
    }
   ],
   "source": [
    "np.random.rand(2, 2, 3)"
   ]
  },
  {
   "cell_type": "markdown",
   "metadata": {},
   "source": [
    "### 正态分布\n",
    "\n",
    "`randn(d0, d1, ..., dn)` 方法生成的浮点数服从标准正态分布。\n",
    "\n",
    "例如，随机生成维度为 $2 \\times 2 \\times 3$ 的数组，服从标准正态分布。"
   ]
  },
  {
   "cell_type": "code",
   "execution_count": 4,
   "metadata": {},
   "outputs": [
    {
     "data": {
      "text/plain": [
       "array([[[-2.02671962,  1.11942361,  0.77919263],\n",
       "        [-1.10109776,  1.13022819,  0.37311891]],\n",
       "\n",
       "       [[-0.38647295, -1.15877024,  0.56611283],\n",
       "        [-0.70445345, -1.3779393 , -0.35311665]]])"
      ]
     },
     "execution_count": 4,
     "metadata": {},
     "output_type": "execute_result"
    }
   ],
   "source": [
    "np.random.randn(2, 2, 3)"
   ]
  },
  {
   "cell_type": "markdown",
   "metadata": {},
   "source": [
    "### 数值范围\n",
    "\n",
    "如果想设置随机数生成的数值范围，可以使用 `randint(low, high, size)`，数值范围为 $[low,high)$。"
   ]
  },
  {
   "cell_type": "code",
   "execution_count": 5,
   "metadata": {},
   "outputs": [
    {
     "data": {
      "text/plain": [
       "array([[[359, 290, 317, 143],\n",
       "        [261, 301, 369, 370],\n",
       "        [314, 351, 289, 395]],\n",
       "\n",
       "       [[312, 307, 336, 152],\n",
       "        [379, 316, 351, 287],\n",
       "        [140, 256, 114, 164]]])"
      ]
     },
     "execution_count": 5,
     "metadata": {},
     "output_type": "execute_result"
    }
   ],
   "source": [
    "np.random.randint(low=100, high=400, size=(2,3,4)) "
   ]
  },
  {
   "cell_type": "markdown",
   "metadata": {},
   "source": [
    "## 排列\n",
    "\n",
    "一个典型的随机数场景是生成排列组合。 \n",
    "\n",
    "`shuffle(x)` 方法就像扑克牌中的洗牌，可以在原地打乱对象 `x` 。如果 `x` 是多维数组，则按照第一维“洗牌”。现在，我们在 $[100,400)$ 范围内生成随机整数数组，并将生成的矩阵按照行“洗牌”。"
   ]
  },
  {
   "cell_type": "code",
   "execution_count": 8,
   "metadata": {},
   "outputs": [
    {
     "name": "stdout",
     "output_type": "stream",
     "text": [
      "===before shuffle===\n",
      "[[134 326]\n",
      " [200 230]\n",
      " [356 104]\n",
      " [317 354]\n",
      " [382 306]\n",
      " [114 141]]\n",
      "===after shuffle===\n",
      "[[134 326]\n",
      " [200 230]\n",
      " [114 141]\n",
      " [356 104]\n",
      " [382 306]\n",
      " [317 354]]\n"
     ]
    }
   ],
   "source": [
    "x = np.random.randint(100, 400, (3, 2))\n",
    "print(\"===before shuffle===\")\n",
    "print(x)\n",
    "np.random.shuffle(x)\n",
    "print(\"===after shuffle===\")\n",
    "print(x)"
   ]
  },
  {
   "cell_type": "markdown",
   "metadata": {},
   "source": [
    "`permutation(x)` 方法生成了某种可能的排列。如果 `x` 是多维数组，则按照第一维生成一种新的排列。"
   ]
  },
  {
   "cell_type": "code",
   "execution_count": 7,
   "metadata": {},
   "outputs": [
    {
     "data": {
      "text/plain": [
       "array([7, 0, 1, 8, 3, 2, 4, 5, 9, 6])"
      ]
     },
     "execution_count": 7,
     "metadata": {},
     "output_type": "execute_result"
    }
   ],
   "source": [
    "np.random.permutation(10)"
   ]
  }
 ],
 "metadata": {
  "kernelspec": {
   "display_name": "Python 3",
   "language": "python",
   "name": "python3"
  },
  "language_info": {
   "codemirror_mode": {
    "name": "ipython",
    "version": 3
   },
   "file_extension": ".py",
   "mimetype": "text/x-python",
   "name": "python",
   "nbconvert_exporter": "python",
   "pygments_lexer": "ipython3",
   "version": "3.11.5"
  }
 },
 "nbformat": 4,
 "nbformat_minor": 2
}
