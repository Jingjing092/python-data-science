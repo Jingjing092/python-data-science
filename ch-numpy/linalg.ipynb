{
 "cells": [
  {
   "cell_type": "markdown",
   "metadata": {},
   "source": [
    "# 线性代数"
   ]
  },
  {
   "cell_type": "code",
   "execution_count": 33,
   "metadata": {},
   "outputs": [],
   "source": [
    "import numpy as np"
   ]
  },
  {
   "cell_type": "markdown",
   "metadata": {},
   "source": [
    "## 矩阵与向量的乘积\n",
    "### 点积\n",
    "`dot(a,b,out=None)` 计算两个数组的点积：\n",
    " 1）如果 `a` 和 `b` 都是一维数组，那么点积即为内积（没有共轭）；"
   ]
  },
  {
   "cell_type": "code",
   "execution_count": 34,
   "metadata": {},
   "outputs": [
    {
     "data": {
      "text/plain": [
       "12"
      ]
     },
     "execution_count": 34,
     "metadata": {},
     "output_type": "execute_result"
    }
   ],
   "source": [
    "np.dot(3, 4)"
   ]
  },
  {
   "cell_type": "code",
   "execution_count": 35,
   "metadata": {},
   "outputs": [
    {
     "data": {
      "text/plain": [
       "(-12+0j)"
      ]
     },
     "execution_count": 35,
     "metadata": {},
     "output_type": "execute_result"
    }
   ],
   "source": [
    "np.dot(3j, 4j)"
   ]
  },
  {
   "cell_type": "markdown",
   "metadata": {},
   "source": [
    " 2）如果`a` 和 `b` 都是二维数组，那么使用矩阵乘法 `a @ b` ;"
   ]
  },
  {
   "cell_type": "code",
   "execution_count": 36,
   "metadata": {},
   "outputs": [
    {
     "data": {
      "text/plain": [
       "array([[4, 1],\n",
       "       [2, 2]])"
      ]
     },
     "execution_count": 36,
     "metadata": {},
     "output_type": "execute_result"
    }
   ],
   "source": [
    "a = [[1, 0], [0, 1]]\n",
    "b = [[4, 1], [2, 2]]\n",
    "np.dot(a, b)"
   ]
  },
  {
   "cell_type": "markdown",
   "metadata": {},
   "source": [
    " 3）如果`a` 或 `b` 是标量（维数为`0`），那么其点积等价于乘，可以使用 `numpy.multiply(a,b)`  或 `a*b` ；"
   ]
  },
  {
   "cell_type": "code",
   "execution_count": 37,
   "metadata": {},
   "outputs": [
    {
     "data": {
      "text/plain": [
       "array([[16,  4],\n",
       "       [ 8,  8]])"
      ]
     },
     "execution_count": 37,
     "metadata": {},
     "output_type": "execute_result"
    }
   ],
   "source": [
    "a = 4\n",
    "b = [[4,1],[2,2]]\n",
    "np.dot(a,b)"
   ]
  },
  {
   "cell_type": "markdown",
   "metadata": {},
   "source": [
    " 4）如果`a` 是一维数组， `b` 是`N`维数组，那么点积是 `a` 与 `b` 的最后一个轴的积的和；"
   ]
  },
  {
   "cell_type": "code",
   "execution_count": 38,
   "metadata": {},
   "outputs": [
    {
     "data": {
      "text/plain": [
       "array([54, 66, 78])"
      ]
     },
     "execution_count": 38,
     "metadata": {},
     "output_type": "execute_result"
    }
   ],
   "source": [
    "a = [3,4,5]\n",
    "b = [[1,2,3],[4,5,6],[7,8,9]]\n",
    "np.dot(a,b)"
   ]
  },
  {
   "cell_type": "markdown",
   "metadata": {},
   "source": [
    " 5）如果`a` 是`N`维数组， `b` 是`M-d`维数组(M≥2)，那么点积为 `a` 的最后一个轴与 `b` 的倒数第二条轴的乘机的和：\n",
    " `dot(a,b)[i,j,k,m] = sum(a[i,j,:]*b[k,:,m])`"
   ]
  },
  {
   "cell_type": "code",
   "execution_count": 39,
   "metadata": {},
   "outputs": [
    {
     "data": {
      "text/plain": [
       "array([[ 70,  83,  96],\n",
       "       [ 60,  72,  84],\n",
       "       [ 90, 108, 126],\n",
       "       [106, 128, 150]])"
      ]
     },
     "execution_count": 39,
     "metadata": {},
     "output_type": "execute_result"
    }
   ],
   "source": [
    "a = [[1,5,7],[2,4,6],[3,6,9],[4,8,10]]\n",
    "b = [[1,2,3],[4,5,6],[7,8,9]]\n",
    "np.dot(a,b)\n"
   ]
  },
  {
   "cell_type": "markdown",
   "metadata": {},
   "source": [
    "`linalg.multi_dot(arrays, *, out=None)`函数，在单个函数调用中计算两个或多个数组的点积，同时自动选择最快的求值顺序。\n",
    "使用该函数时需要注意的是，如果第一个参数是一维数组，它被视为行向量。如果最后一个参数是一维数组，则将其视为列向量。\n",
    "其他参数必须是二维的。"
   ]
  },
  {
   "cell_type": "markdown",
   "metadata": {},
   "source": [
    "下面我们通过一个例子学习使用 `linalg.multi_dot(arrays, *, out=None)` 函数："
   ]
  },
  {
   "cell_type": "code",
   "execution_count": 40,
   "metadata": {},
   "outputs": [],
   "source": [
    "from numpy.linalg import multi_dot"
   ]
  },
  {
   "cell_type": "code",
   "execution_count": 41,
   "metadata": {},
   "outputs": [],
   "source": [
    "A = np.random.random((10000, 100))\n",
    "B = np.random.random((100, 1000))\n",
    "C = np.random.random((1000, 5))\n",
    "D = np.random.random((5, 333))"
   ]
  },
  {
   "cell_type": "code",
   "execution_count": 42,
   "metadata": {},
   "outputs": [
    {
     "data": {
      "text/plain": [
       "array([[29258.56199495, 39185.76250743, 24831.33335922, ...,\n",
       "        32218.47313706, 49684.46713456, 22935.23821755],\n",
       "       [27709.83193917, 37113.69763102, 23518.20177806, ...,\n",
       "        30512.01252248, 47060.32181675, 21714.06820096],\n",
       "       [30923.66123875, 41400.43468792, 26235.57546294, ...,\n",
       "        34030.73408076, 52492.73599524, 24230.36608396],\n",
       "       ...,\n",
       "       [30037.91721463, 40225.74401239, 25493.36791348, ...,\n",
       "        33065.16482832, 51002.93827961, 23539.62618817],\n",
       "       [32787.66087443, 43892.23116514, 27817.26221112, ...,\n",
       "        36072.93205314, 55650.19508135, 25687.60971541],\n",
       "       [32347.16027985, 43328.5110721 , 27457.63882012, ...,\n",
       "        35623.51338682, 54936.40902548, 25354.31087954]])"
      ]
     },
     "execution_count": 42,
     "metadata": {},
     "output_type": "execute_result"
    }
   ],
   "source": [
    "_ = multi_dot([A, B, C, D])\n",
    "_"
   ]
  },
  {
   "cell_type": "markdown",
   "metadata": {},
   "source": [
    "我们也可以使用 `vdot(a,b,/)` 函数，返回两个向量的点积。\n",
    "需要注意的是，`vdot` 处理多维数组的方式与 `dot` 不同：`vdot`不执行矩阵乘积，而是首先将输入参数扁平化为一维向量。\n",
    "因此，`vdot`只能用于向量。"
   ]
  },
  {
   "cell_type": "code",
   "execution_count": 43,
   "metadata": {},
   "outputs": [
    {
     "data": {
      "text/plain": [
       "(70-8j)"
      ]
     },
     "execution_count": 43,
     "metadata": {},
     "output_type": "execute_result"
    }
   ],
   "source": [
    "a = np.array([1+2j,3+4j])\n",
    "b = np.array([5+6j,7+8j])\n",
    "np.vdot(a, b)"
   ]
  },
  {
   "cell_type": "code",
   "execution_count": 44,
   "metadata": {},
   "outputs": [
    {
     "data": {
      "text/plain": [
       "(70+8j)"
      ]
     },
     "execution_count": 44,
     "metadata": {},
     "output_type": "execute_result"
    }
   ],
   "source": [
    "np.vdot(b, a)"
   ]
  },
  {
   "cell_type": "markdown",
   "metadata": {},
   "source": [
    "当 `a` 和 `b` 是更高维度的数组时，输出结果依旧是扁平化的一维向量："
   ]
  },
  {
   "cell_type": "code",
   "execution_count": 45,
   "metadata": {},
   "outputs": [
    {
     "data": {
      "text/plain": [
       "70"
      ]
     },
     "execution_count": 45,
     "metadata": {},
     "output_type": "execute_result"
    }
   ],
   "source": [
    "a = np.array([[1, 2], [3, 4]])\n",
    "b = np.array([[5, 6], [7, 8]])\n",
    "np.vdot(a, b)"
   ]
  },
  {
   "cell_type": "code",
   "execution_count": 46,
   "metadata": {},
   "outputs": [
    {
     "data": {
      "text/plain": [
       "70"
      ]
     },
     "execution_count": 46,
     "metadata": {},
     "output_type": "execute_result"
    }
   ],
   "source": [
    "np.vdot(b, a)"
   ]
  },
  {
   "cell_type": "code",
   "execution_count": 47,
   "metadata": {},
   "outputs": [
    {
     "data": {
      "text/plain": [
       "70"
      ]
     },
     "execution_count": 47,
     "metadata": {},
     "output_type": "execute_result"
    }
   ],
   "source": [
    "1*5 + 2*6 + 3*7 + 4*8"
   ]
  }
 ],
 "metadata": {
  "kernelspec": {
   "display_name": "Python 3",
   "language": "python",
   "name": "python3"
  },
  "language_info": {
   "codemirror_mode": {
    "name": "ipython",
    "version": 3
   },
   "file_extension": ".py",
   "mimetype": "text/x-python",
   "name": "python",
   "nbconvert_exporter": "python",
   "pygments_lexer": "ipython3",
   "version": "3.10.11"
  }
 },
 "nbformat": 4,
 "nbformat_minor": 2
}
